{
 "cells": [
  {
   "cell_type": "code",
   "execution_count": 1,
   "id": "96ff8d2f",
   "metadata": {},
   "outputs": [],
   "source": [
    "import numpy as np\n",
    "import pandas as pd\n",
    "\n",
    "np.random.seed(18)"
   ]
  },
  {
   "cell_type": "markdown",
   "id": "a727c9ad",
   "metadata": {},
   "source": [
    "1. How likely is it that you roll doubles when rolling two dice?"
   ]
  },
  {
   "cell_type": "code",
   "execution_count": 32,
   "id": "958253a7",
   "metadata": {},
   "outputs": [
    {
     "data": {
      "text/plain": [
       "0.1666"
      ]
     },
     "execution_count": 32,
     "metadata": {},
     "output_type": "execute_result"
    }
   ],
   "source": [
    "n_trials = nrows = 10_000\n",
    "n_dice = ncols = 2\n",
    "\n",
    "rolls = pd.DataFrame(np.random.choice([1, 2, 3, 4, 5, 6], n_trials * n_dice).reshape(nrows, ncols))\n",
    "\n",
    "rolls.columns=['dice1', 'dice2']\n",
    "\n",
    "doubles = rolls.dice1 == rolls.dice2\n",
    "doubles.mean()"
   ]
  },
  {
   "cell_type": "markdown",
   "id": "62941dfb",
   "metadata": {},
   "source": [
    "2. If you flip 8 coins, what is the probability of getting exactly 3 heads? "
   ]
  },
  {
   "cell_type": "code",
   "execution_count": 66,
   "id": "8f0a1d25",
   "metadata": {},
   "outputs": [
    {
     "data": {
      "text/plain": [
       "0.21941"
      ]
     },
     "execution_count": 66,
     "metadata": {},
     "output_type": "execute_result"
    }
   ],
   "source": [
    "# Heads = 1, Tails = 0\n",
    "n_trials = nrows = 10_000\n",
    "n_coins = ncols = 8\n",
    "\n",
    "data = pd.DataFrame(np.random.choice([1,0], n_trials * n_coins).reshape(nrows, ncols))\n",
    "\n",
    "three_heads = flips.sum(axis=1) == 3\n",
    "three_heads.mean()"
   ]
  },
  {
   "cell_type": "markdown",
   "id": "c28def58",
   "metadata": {},
   "source": [
    "a. What is the probability of getting more than 3 heads?"
   ]
  },
  {
   "cell_type": "code",
   "execution_count": 67,
   "id": "56711200",
   "metadata": {},
   "outputs": [
    {
     "data": {
      "text/plain": [
       "0.63832"
      ]
     },
     "execution_count": 67,
     "metadata": {},
     "output_type": "execute_result"
    }
   ],
   "source": [
    "more_than_three_heads = flips.sum(axis=1) > 3\n",
    "more_than_three_heads.mean()"
   ]
  },
  {
   "cell_type": "markdown",
   "id": "22213cd1",
   "metadata": {},
   "source": [
    "3. There are approximitely 3 web development cohorts for every 1 data science cohort at Codeup. Assuming that Codeup randomly selects an alumni to put on a billboard, what are the odds that the two billboards I drive past both have data science students on them?"
   ]
  },
  {
   "cell_type": "code",
   "execution_count": 68,
   "id": "499badd4",
   "metadata": {},
   "outputs": [
    {
     "data": {
      "text/plain": [
       "0.0585"
      ]
     },
     "execution_count": 68,
     "metadata": {},
     "output_type": "execute_result"
    }
   ],
   "source": [
    "n_trials = nrows = 10_000\n",
    "n_billboards = ncols = 2\n",
    "\n",
    "data = pd.DataFrame(np.random.choice(['DS','WD','WD','WD'], nrows*ncols).reshape(nrows,ncols))\n",
    "\n",
    "two_billboards = (data[0] == 'DS') & (data[1] == 'DS')\n",
    "two_billboards.mean()"
   ]
  },
  {
   "cell_type": "markdown",
   "id": "1db10f1b",
   "metadata": {},
   "source": [
    "4. Codeup students buy, on average, 3 poptart packages with a standard deviation of 1.5 a day from the snack vending machine. If on monday the machine is restocked with 17 poptart packages, how likely is it that I will be able to buy some poptarts on Friday afternoon? (Remember, if you have mean and standard deviation, use the np.random.normal)"
   ]
  },
  {
   "cell_type": "code",
   "execution_count": 69,
   "id": "9680723d",
   "metadata": {},
   "outputs": [
    {
     "data": {
      "text/plain": [
       "0.8723"
      ]
     },
     "execution_count": 69,
     "metadata": {},
     "output_type": "execute_result"
    }
   ],
   "source": [
    "nrows = 10_000\n",
    "ncols = 5\n",
    "\n",
    "snacks = pd.DataFrame(np.random.normal(3, 1.5, nrows*ncols).astype(int).reshape(nrows, ncols))\n",
    "snacks\n",
    "\n",
    "do_i_get_a_snack = snacks.sum(axis=1) < 17\n",
    "do_i_get_a_snack.mean()"
   ]
  },
  {
   "cell_type": "markdown",
   "id": "024225fb",
   "metadata": {},
   "source": [
    "5. Compare Heights\n",
    "- Men have an average height of 178 cm and standard deviation of 8cm.\n",
    "- Women have a mean of 170, sd = 6cm.\n",
    "- Since you have means and standard deviations, you can use np.random.normal to generate observations.\n",
    "- If a man and woman are chosen at random, P(woman taller than man)?"
   ]
  },
  {
   "cell_type": "code",
   "execution_count": 76,
   "id": "f802517b",
   "metadata": {},
   "outputs": [
    {
     "data": {
      "text/plain": [
       "0.2038"
      ]
     },
     "execution_count": 76,
     "metadata": {},
     "output_type": "execute_result"
    }
   ],
   "source": [
    "men_heights = np.random.normal(178, 8, 10_000)\n",
    "women_heights = np.random.normal(170, 6, 10_000)\n",
    "\n",
    "heights = {'men_heights': men_heights,\n",
    "           'women_heights' : women_heights}\n",
    "\n",
    "heights = pd.DataFrame(heights)\n",
    "(heights.men_heights < heights.women_heights).mean()"
   ]
  },
  {
   "cell_type": "markdown",
   "id": "b7b7b7a7",
   "metadata": {},
   "source": [
    "6. When installing anaconda on a student's computer, there's a 1 in 250 chance that the download is corrupted and the installation fails. What are the odds that after having 50 students download anaconda, no one has an installation issue? "
   ]
  },
  {
   "cell_type": "code",
   "execution_count": 83,
   "id": "a38b56e3",
   "metadata": {},
   "outputs": [
    {
     "data": {
      "text/plain": [
       "0.8229"
      ]
     },
     "execution_count": 83,
     "metadata": {},
     "output_type": "execute_result"
    }
   ],
   "source": [
    "nrows = 10_000\n",
    "ncols = 50\n",
    "\n",
    "install_issues = pd.DataFrame(np.random.choice([True, False], nrows*ncols, p=[0.004, 0.996]).reshape(nrows, ncols))\n",
    "\n",
    "(install_issues.sum(axis = 1) == 0).mean()"
   ]
  },
  {
   "cell_type": "markdown",
   "id": "4239041a",
   "metadata": {},
   "source": [
    "a. 100 students?"
   ]
  },
  {
   "cell_type": "code",
   "execution_count": 84,
   "id": "586bcc2b",
   "metadata": {},
   "outputs": [
    {
     "data": {
      "text/plain": [
       "0.6736"
      ]
     },
     "execution_count": 84,
     "metadata": {},
     "output_type": "execute_result"
    }
   ],
   "source": [
    "nrows = 10_000\n",
    "ncols = 100\n",
    "\n",
    "install_issues = pd.DataFrame(np.random.choice([True, False], nrows*ncols, p=[0.004, 0.996]).reshape(nrows, ncols))\n",
    "\n",
    "(install_issues.sum(axis = 1) == 0).mean()"
   ]
  },
  {
   "cell_type": "markdown",
   "id": "52a62901",
   "metadata": {},
   "source": [
    "b. What is the probability that we observe an installation issue within the first 150 students that download anaconda?"
   ]
  },
  {
   "cell_type": "code",
   "execution_count": 85,
   "id": "e896aed2",
   "metadata": {},
   "outputs": [
    {
     "data": {
      "text/plain": [
       "0.4519"
      ]
     },
     "execution_count": 85,
     "metadata": {},
     "output_type": "execute_result"
    }
   ],
   "source": [
    "nrows = 10_000\n",
    "ncols = 150\n",
    "\n",
    "install_issues = pd.DataFrame(np.random.choice([True, False], nrows*ncols, p=[0.004, 0.996]).reshape(nrows, ncols))\n",
    "\n",
    "(install_issues.sum(axis = 1) > 0).mean()"
   ]
  },
  {
   "cell_type": "markdown",
   "id": "ab8cc94f",
   "metadata": {},
   "source": [
    "c. How likely is it that 450 students all download anaconda without an issue?"
   ]
  },
  {
   "cell_type": "code",
   "execution_count": 86,
   "id": "695fb290",
   "metadata": {},
   "outputs": [
    {
     "data": {
      "text/plain": [
       "0.1637"
      ]
     },
     "execution_count": 86,
     "metadata": {},
     "output_type": "execute_result"
    }
   ],
   "source": [
    "nrows = 10_000\n",
    "ncols = 450\n",
    "\n",
    "install_issues = pd.DataFrame(np.random.choice([True, False], nrows*ncols, p=[0.004, 0.996]).reshape(nrows, ncols))\n",
    "\n",
    "(install_issues.sum(axis = 1) == 0).mean()"
   ]
  },
  {
   "cell_type": "markdown",
   "id": "4f5de138",
   "metadata": {},
   "source": [
    "7. There's a 70% chance on any given day that there will be at least one food truck at Travis Park. However, you haven't seen a food truck there in 3 days. How unlikely is this?"
   ]
  },
  {
   "cell_type": "code",
   "execution_count": 90,
   "id": "808190cb",
   "metadata": {},
   "outputs": [
    {
     "data": {
      "text/plain": [
       "0.0249"
      ]
     },
     "execution_count": 90,
     "metadata": {},
     "output_type": "execute_result"
    }
   ],
   "source": [
    "nrows = 10_000\n",
    "ncols = days = 3\n",
    "\n",
    "food_truck = pd.DataFrame(np.random.choice([True, False], nrows*ncols, p=[.7,.3]).reshape(nrows,ncols))\n",
    "\n",
    "(food_truck.sum(axis=1) == 0).mean()"
   ]
  },
  {
   "cell_type": "markdown",
   "id": "6a3e2928",
   "metadata": {},
   "source": [
    "a. How likely is it that a food truck will show up sometime this week?"
   ]
  },
  {
   "cell_type": "code",
   "execution_count": 93,
   "id": "6646c3fa",
   "metadata": {},
   "outputs": [
    {
     "data": {
      "text/plain": [
       "0.9999"
      ]
     },
     "execution_count": 93,
     "metadata": {},
     "output_type": "execute_result"
    }
   ],
   "source": [
    "nrows = 10_000\n",
    "ncols = days = 7\n",
    "\n",
    "food_truck = pd.DataFrame(np.random.choice([True, False], nrows*ncols, p=[.7,.3]).reshape(nrows,ncols))\n",
    "\n",
    "(food_truck.sum(axis=1) > 0).mean()"
   ]
  },
  {
   "cell_type": "markdown",
   "id": "618fc018",
   "metadata": {},
   "source": [
    "8. If 23 people are in the same room, what are the odds that two of them share a birthday?"
   ]
  },
  {
   "cell_type": "code",
   "execution_count": 98,
   "id": "c4c85383",
   "metadata": {},
   "outputs": [
    {
     "data": {
      "text/plain": [
       "0.508"
      ]
     },
     "execution_count": 98,
     "metadata": {},
     "output_type": "execute_result"
    }
   ],
   "source": [
    "nrows = 10_000\n",
    "ncols = 23\n",
    "\n",
    "birthdays = pd.DataFrame(np.random.choice([r for r in range(366)],nrows*ncols).reshape(nrows,ncols))\n",
    "birthdays                  \n",
    "                         \n",
    "(birthdays.nunique(axis=1) < ncols).mean()"
   ]
  },
  {
   "cell_type": "markdown",
   "id": "2ff06604",
   "metadata": {},
   "source": [
    "a. What if it's 20 people?"
   ]
  },
  {
   "cell_type": "code",
   "execution_count": 99,
   "id": "f00559df",
   "metadata": {},
   "outputs": [
    {
     "data": {
      "text/plain": [
       "0.4112"
      ]
     },
     "execution_count": 99,
     "metadata": {},
     "output_type": "execute_result"
    }
   ],
   "source": [
    "nrows = 10_000\n",
    "ncols = 20\n",
    "\n",
    "birthdays = pd.DataFrame(np.random.choice([r for r in range(366)],nrows*ncols).reshape(nrows,ncols))\n",
    "birthdays                  \n",
    "                         \n",
    "(birthdays.nunique(axis=1) < ncols).mean()"
   ]
  },
  {
   "cell_type": "markdown",
   "id": "3bc05374",
   "metadata": {},
   "source": [
    "b. 40?"
   ]
  },
  {
   "cell_type": "code",
   "execution_count": 100,
   "id": "4f842c39",
   "metadata": {},
   "outputs": [
    {
     "data": {
      "text/plain": [
       "0.8953"
      ]
     },
     "execution_count": 100,
     "metadata": {},
     "output_type": "execute_result"
    }
   ],
   "source": [
    "nrows = 10_000\n",
    "ncols = 40\n",
    "\n",
    "birthdays = pd.DataFrame(np.random.choice([r for r in range(366)],nrows*ncols).reshape(nrows,ncols))\n",
    "birthdays                  \n",
    "                         \n",
    "(birthdays.nunique(axis=1) < ncols).mean()"
   ]
  }
 ],
 "metadata": {
  "kernelspec": {
   "display_name": "Python 3",
   "language": "python",
   "name": "python3"
  },
  "language_info": {
   "codemirror_mode": {
    "name": "ipython",
    "version": 3
   },
   "file_extension": ".py",
   "mimetype": "text/x-python",
   "name": "python",
   "nbconvert_exporter": "python",
   "pygments_lexer": "ipython3",
   "version": "3.8.8"
  }
 },
 "nbformat": 4,
 "nbformat_minor": 5
}
