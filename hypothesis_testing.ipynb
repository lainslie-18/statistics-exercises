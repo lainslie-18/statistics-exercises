{
 "cells": [
  {
   "cell_type": "markdown",
   "id": "095580c8",
   "metadata": {},
   "source": [
    "For each of the following questions, formulate a null and alternative hypothesis (be as specific as you can be), then give an example of what a true positive, true negative, type I and type II errors would look like. Note that some of the questions are intentionally phrased in a vague way. It is your job to reword these as more precise questions that could be tested."
   ]
  },
  {
   "cell_type": "markdown",
   "id": "4b201ca6",
   "metadata": {},
   "source": [
    "1. Has the network latency gone up since we switched internet service providers?\n",
    "Reworded: Is there a difference in network latency since we switched internet service providers?\n",
    "\n",
    "**Null Hypthesis:** There is no difference in network latency since we switched\n",
    "\n",
    "**Alternative Hypothesis:** There is a difference in network latency\n",
    "\n",
    "**True Positive:** There is a difference in network latency\n",
    "\n",
    "**True Negative:** There is no difference in network latency\n",
    "\n",
    "**Type I Error:** Network latency has gone up since switching when it actually hasn't\n",
    "\n",
    "**Type II Error:** There is no difference in network latency when there really is"
   ]
  },
  {
   "cell_type": "markdown",
   "id": "7fe1d68d",
   "metadata": {},
   "source": [
    "2. Is the website redesign any good?\n",
    "Has the website redesign increased customer traffic?\n",
    "\n",
    "**Null Hypthesis:** The website redesign has not increased customer traffic\n",
    "\n",
    "**Alternative Hypothesis:** The website redesign has increased customer traffic\n",
    "\n",
    "**True Positive:** The website redesign has increased customer traffic\n",
    "\n",
    "**True Negative:** The website redesign has not increased customer traffic\n",
    "\n",
    "**Type I Error:** The website redesign has increased customer traffic when it hasn't\n",
    "\n",
    "**Type II Error:** The website redesign has not increased customer traffic when it has"
   ]
  },
  {
   "cell_type": "markdown",
   "id": "ab152499",
   "metadata": {},
   "source": [
    "3. Is our television ad driving more sales?\n",
    "Have sales been impacted since we put oout the new television ad?\n",
    "\n",
    "**Null Hypthesis:** Sales have not been impacted by the television ad\n",
    "\n",
    "**Alternative Hypothesis:** Sales have been impacted by the television ad\n",
    "\n",
    "**True Positive:** Sales have been impacted by the television ad\n",
    "\n",
    "**True Negative:** Sales have not been impacted by the television ad\n",
    "\n",
    "**Type I Error:** Sales have been impacted by the television ad when they really haven't\n",
    "\n",
    "**Type II Error:** Sales have not been impacted by the television ad when they really have"
   ]
  },
  {
   "cell_type": "markdown",
   "id": "5bd7529a",
   "metadata": {},
   "source": [
    "### T-Test"
   ]
  },
  {
   "cell_type": "code",
   "execution_count": 14,
   "id": "f0babbd5",
   "metadata": {},
   "outputs": [],
   "source": [
    "import numpy as np\n",
    "import seaborn as sns\n",
    "import scipy.stats as stats\n",
    "import pandas as pd\n",
    "import matplotlib.pyplot as plt\n",
    "from pydataset import data"
   ]
  },
  {
   "cell_type": "markdown",
   "id": "87321a26",
   "metadata": {},
   "source": [
    "1. Ace Realty wants to determine whether the average time it takes to sell homes is different for its two offices. A sample of 40 sales from office #1 revealed a mean of 90 days and a standard deviation of 15 days. A sample of 50 sales from office #2 revealed a mean of 100 days and a standard deviation of 20 days. Use a .05 level of significance."
   ]
  },
  {
   "cell_type": "code",
   "execution_count": 42,
   "id": "69a7f91a",
   "metadata": {},
   "outputs": [],
   "source": [
    "alpha = 0.05"
   ]
  },
  {
   "cell_type": "code",
   "execution_count": 43,
   "id": "16b117de",
   "metadata": {},
   "outputs": [
    {
     "data": {
      "text/plain": [
       "(-2.6252287036468456, 0.01020985244923939, 0.05)"
      ]
     },
     "execution_count": 43,
     "metadata": {},
     "output_type": "execute_result"
    }
   ],
   "source": [
    "t,p = stats.ttest_ind_from_stats(90, 15, 40, 100, 20, 50)\n",
    "t,p,alpha"
   ]
  },
  {
   "cell_type": "markdown",
   "id": "5e374b0d",
   "metadata": {},
   "source": [
    "2. Load the mpg dataset and use it to answer the following questions:"
   ]
  },
  {
   "cell_type": "code",
   "execution_count": 17,
   "id": "d8b49ea5",
   "metadata": {},
   "outputs": [
    {
     "data": {
      "text/html": [
       "<div>\n",
       "<style scoped>\n",
       "    .dataframe tbody tr th:only-of-type {\n",
       "        vertical-align: middle;\n",
       "    }\n",
       "\n",
       "    .dataframe tbody tr th {\n",
       "        vertical-align: top;\n",
       "    }\n",
       "\n",
       "    .dataframe thead th {\n",
       "        text-align: right;\n",
       "    }\n",
       "</style>\n",
       "<table border=\"1\" class=\"dataframe\">\n",
       "  <thead>\n",
       "    <tr style=\"text-align: right;\">\n",
       "      <th></th>\n",
       "      <th>manufacturer</th>\n",
       "      <th>model</th>\n",
       "      <th>displ</th>\n",
       "      <th>year</th>\n",
       "      <th>cyl</th>\n",
       "      <th>trans</th>\n",
       "      <th>drv</th>\n",
       "      <th>cty</th>\n",
       "      <th>hwy</th>\n",
       "      <th>fl</th>\n",
       "      <th>class</th>\n",
       "    </tr>\n",
       "  </thead>\n",
       "  <tbody>\n",
       "    <tr>\n",
       "      <th>7</th>\n",
       "      <td>audi</td>\n",
       "      <td>a4</td>\n",
       "      <td>3.1</td>\n",
       "      <td>2008</td>\n",
       "      <td>6</td>\n",
       "      <td>auto(av)</td>\n",
       "      <td>f</td>\n",
       "      <td>18</td>\n",
       "      <td>27</td>\n",
       "      <td>p</td>\n",
       "      <td>compact</td>\n",
       "    </tr>\n",
       "    <tr>\n",
       "      <th>8</th>\n",
       "      <td>audi</td>\n",
       "      <td>a4 quattro</td>\n",
       "      <td>1.8</td>\n",
       "      <td>1999</td>\n",
       "      <td>4</td>\n",
       "      <td>manual(m5)</td>\n",
       "      <td>4</td>\n",
       "      <td>18</td>\n",
       "      <td>26</td>\n",
       "      <td>p</td>\n",
       "      <td>compact</td>\n",
       "    </tr>\n",
       "    <tr>\n",
       "      <th>81</th>\n",
       "      <td>ford</td>\n",
       "      <td>explorer 4wd</td>\n",
       "      <td>4.0</td>\n",
       "      <td>2008</td>\n",
       "      <td>6</td>\n",
       "      <td>auto(l5)</td>\n",
       "      <td>4</td>\n",
       "      <td>13</td>\n",
       "      <td>19</td>\n",
       "      <td>r</td>\n",
       "      <td>suv</td>\n",
       "    </tr>\n",
       "    <tr>\n",
       "      <th>226</th>\n",
       "      <td>volkswagen</td>\n",
       "      <td>new beetle</td>\n",
       "      <td>2.5</td>\n",
       "      <td>2008</td>\n",
       "      <td>5</td>\n",
       "      <td>manual(m5)</td>\n",
       "      <td>f</td>\n",
       "      <td>20</td>\n",
       "      <td>28</td>\n",
       "      <td>r</td>\n",
       "      <td>subcompact</td>\n",
       "    </tr>\n",
       "    <tr>\n",
       "      <th>169</th>\n",
       "      <td>subaru</td>\n",
       "      <td>impreza awd</td>\n",
       "      <td>2.5</td>\n",
       "      <td>1999</td>\n",
       "      <td>4</td>\n",
       "      <td>auto(l4)</td>\n",
       "      <td>4</td>\n",
       "      <td>19</td>\n",
       "      <td>26</td>\n",
       "      <td>r</td>\n",
       "      <td>subcompact</td>\n",
       "    </tr>\n",
       "  </tbody>\n",
       "</table>\n",
       "</div>"
      ],
      "text/plain": [
       "    manufacturer         model  displ  year  cyl       trans drv  cty  hwy fl  \\\n",
       "7           audi            a4    3.1  2008    6    auto(av)   f   18   27  p   \n",
       "8           audi    a4 quattro    1.8  1999    4  manual(m5)   4   18   26  p   \n",
       "81          ford  explorer 4wd    4.0  2008    6    auto(l5)   4   13   19  r   \n",
       "226   volkswagen    new beetle    2.5  2008    5  manual(m5)   f   20   28  r   \n",
       "169       subaru   impreza awd    2.5  1999    4    auto(l4)   4   19   26  r   \n",
       "\n",
       "          class  \n",
       "7       compact  \n",
       "8       compact  \n",
       "81          suv  \n",
       "226  subcompact  \n",
       "169  subcompact  "
      ]
     },
     "execution_count": 17,
     "metadata": {},
     "output_type": "execute_result"
    }
   ],
   "source": [
    "mpg = data('mpg')\n",
    "mpg.sample(5)"
   ]
  },
  {
   "cell_type": "markdown",
   "id": "77694ad2",
   "metadata": {},
   "source": [
    "a. Is there a difference in fuel-efficiency in cars from 2008 vs 1999?\n",
    "\n",
    "Step 1.\n",
    "\n",
    "See below\n",
    "\n",
    "Step 2.\n",
    "\n",
    "Null Hypothesis: Fuel efficiency in cars from 2008 vs 1999 is the same.\n",
    "\n",
    "Alternate Hypothesis: Fuel efficiency in cars from 2008 vs 1999 is different\n",
    "\n",
    "Step 3. See below\n",
    "\n",
    "Step 4.\n",
    "\n",
    "- More than 30 observations\n",
    "- independent samples\n",
    "- Fairly equal variance"
   ]
  },
  {
   "cell_type": "code",
   "execution_count": 29,
   "id": "a441a438",
   "metadata": {},
   "outputs": [
    {
     "data": {
      "text/html": [
       "<div>\n",
       "<style scoped>\n",
       "    .dataframe tbody tr th:only-of-type {\n",
       "        vertical-align: middle;\n",
       "    }\n",
       "\n",
       "    .dataframe tbody tr th {\n",
       "        vertical-align: top;\n",
       "    }\n",
       "\n",
       "    .dataframe thead th {\n",
       "        text-align: right;\n",
       "    }\n",
       "</style>\n",
       "<table border=\"1\" class=\"dataframe\">\n",
       "  <thead>\n",
       "    <tr style=\"text-align: right;\">\n",
       "      <th></th>\n",
       "      <th>manufacturer</th>\n",
       "      <th>model</th>\n",
       "      <th>displ</th>\n",
       "      <th>year</th>\n",
       "      <th>cyl</th>\n",
       "      <th>trans</th>\n",
       "      <th>drv</th>\n",
       "      <th>cty</th>\n",
       "      <th>hwy</th>\n",
       "      <th>fl</th>\n",
       "      <th>class</th>\n",
       "      <th>mpg</th>\n",
       "    </tr>\n",
       "  </thead>\n",
       "  <tbody>\n",
       "    <tr>\n",
       "      <th>213</th>\n",
       "      <td>volkswagen</td>\n",
       "      <td>jetta</td>\n",
       "      <td>1.9</td>\n",
       "      <td>1999</td>\n",
       "      <td>4</td>\n",
       "      <td>manual(m5)</td>\n",
       "      <td>f</td>\n",
       "      <td>33</td>\n",
       "      <td>44</td>\n",
       "      <td>d</td>\n",
       "      <td>compact</td>\n",
       "      <td>38</td>\n",
       "    </tr>\n",
       "    <tr>\n",
       "      <th>22</th>\n",
       "      <td>chevrolet</td>\n",
       "      <td>c1500 suburban 2wd</td>\n",
       "      <td>5.7</td>\n",
       "      <td>1999</td>\n",
       "      <td>8</td>\n",
       "      <td>auto(l4)</td>\n",
       "      <td>r</td>\n",
       "      <td>13</td>\n",
       "      <td>17</td>\n",
       "      <td>r</td>\n",
       "      <td>suv</td>\n",
       "      <td>15</td>\n",
       "    </tr>\n",
       "    <tr>\n",
       "      <th>70</th>\n",
       "      <td>dodge</td>\n",
       "      <td>ram 1500 pickup 4wd</td>\n",
       "      <td>4.7</td>\n",
       "      <td>2008</td>\n",
       "      <td>8</td>\n",
       "      <td>manual(m6)</td>\n",
       "      <td>4</td>\n",
       "      <td>9</td>\n",
       "      <td>12</td>\n",
       "      <td>e</td>\n",
       "      <td>pickup</td>\n",
       "      <td>10</td>\n",
       "    </tr>\n",
       "    <tr>\n",
       "      <th>125</th>\n",
       "      <td>jeep</td>\n",
       "      <td>grand cherokee 4wd</td>\n",
       "      <td>4.0</td>\n",
       "      <td>1999</td>\n",
       "      <td>6</td>\n",
       "      <td>auto(l4)</td>\n",
       "      <td>4</td>\n",
       "      <td>15</td>\n",
       "      <td>20</td>\n",
       "      <td>r</td>\n",
       "      <td>suv</td>\n",
       "      <td>18</td>\n",
       "    </tr>\n",
       "    <tr>\n",
       "      <th>197</th>\n",
       "      <td>toyota</td>\n",
       "      <td>corolla</td>\n",
       "      <td>1.8</td>\n",
       "      <td>2008</td>\n",
       "      <td>4</td>\n",
       "      <td>manual(m5)</td>\n",
       "      <td>f</td>\n",
       "      <td>28</td>\n",
       "      <td>37</td>\n",
       "      <td>r</td>\n",
       "      <td>compact</td>\n",
       "      <td>32</td>\n",
       "    </tr>\n",
       "  </tbody>\n",
       "</table>\n",
       "</div>"
      ],
      "text/plain": [
       "    manufacturer                model  displ  year  cyl       trans drv  cty  \\\n",
       "213   volkswagen                jetta    1.9  1999    4  manual(m5)   f   33   \n",
       "22     chevrolet   c1500 suburban 2wd    5.7  1999    8    auto(l4)   r   13   \n",
       "70         dodge  ram 1500 pickup 4wd    4.7  2008    8  manual(m6)   4    9   \n",
       "125         jeep   grand cherokee 4wd    4.0  1999    6    auto(l4)   4   15   \n",
       "197       toyota              corolla    1.8  2008    4  manual(m5)   f   28   \n",
       "\n",
       "     hwy fl    class  mpg  \n",
       "213   44  d  compact   38  \n",
       "22    17  r      suv   15  \n",
       "70    12  e   pickup   10  \n",
       "125   20  r      suv   18  \n",
       "197   37  r  compact   32  "
      ]
     },
     "execution_count": 29,
     "metadata": {},
     "output_type": "execute_result"
    }
   ],
   "source": [
    "mpg['mpg'] = round((mpg.cty + mpg.hwy) / 2).astype(int)\n",
    "mpg.sample(5)"
   ]
  },
  {
   "cell_type": "code",
   "execution_count": 52,
   "id": "bbbf3a8b",
   "metadata": {},
   "outputs": [
    {
     "data": {
      "text/plain": [
       "<AxesSubplot:>"
      ]
     },
     "execution_count": 52,
     "metadata": {},
     "output_type": "execute_result"
    },
    {
     "data": {
      "image/png": "[encoded data removed]",
      "text/plain": [
       "<Figure size 432x288 with 1 Axes>"
      ]
     },
     "metadata": {
      "needs_background": "light"
     },
     "output_type": "display_data"
    }
   ],
   "source": [
    "#Step 1\n",
    "cars_2008 = mpg[mpg.year == 2008].mpg\n",
    "cars_2008.hist()"
   ]
  },
  {
   "cell_type": "code",
   "execution_count": 53,
   "id": "161704c1",
   "metadata": {},
   "outputs": [
    {
     "data": {
      "text/plain": [
       "<AxesSubplot:>"
      ]
     },
     "execution_count": 53,
     "metadata": {},
     "output_type": "execute_result"
    },
    {
     "data": {
      "image/png": "[encoded data removed]",
      "text/plain": [
       "<Figure size 432x288 with 1 Axes>"
      ]
     },
     "metadata": {
      "needs_background": "light"
     },
     "output_type": "display_data"
    }
   ],
   "source": [
    "#Step 1\n",
    "cars_1999 = mpg[mpg.year == 1999].mpg\n",
    "cars_1999.hist()"
   ]
  },
  {
   "cell_type": "code",
   "execution_count": 54,
   "id": "ea691e11",
   "metadata": {},
   "outputs": [],
   "source": [
    "#Step 3\n",
    "alpha = 0.05"
   ]
  },
  {
   "cell_type": "code",
   "execution_count": 55,
   "id": "d22fa8e8",
   "metadata": {},
   "outputs": [
    {
     "data": {
      "text/plain": [
       "(24.8745947539051, 26.351458885941646)"
      ]
     },
     "execution_count": 55,
     "metadata": {},
     "output_type": "execute_result"
    }
   ],
   "source": [
    "#Step 4\n",
    "cars_2008.var(), cars_1999.var()"
   ]
  },
  {
   "cell_type": "code",
   "execution_count": 56,
   "id": "fc7d88e1",
   "metadata": {},
   "outputs": [
    {
     "data": {
      "text/plain": [
       "(-0.24542297716258815, 0.8063459014623406, 0.05)"
      ]
     },
     "execution_count": 56,
     "metadata": {},
     "output_type": "execute_result"
    }
   ],
   "source": [
    "#Step 5\n",
    "t,p = stats.ttest_ind(cars_2008, cars_1999)\n",
    "t,p,alpha"
   ]
  },
  {
   "cell_type": "markdown",
   "id": "031601c4",
   "metadata": {},
   "source": [
    "Step 6\n",
    "\n",
    "We fail to reject the null hypothesis."
   ]
  },
  {
   "cell_type": "markdown",
   "id": "c88af565",
   "metadata": {},
   "source": [
    "b. Are compact cars more fuel-efficient than the average car?\n",
    "\n",
    "Step 1.\n",
    "\n",
    "See below\n",
    "\n",
    "Step 2.\n",
    "\n",
    "Null Hypothesis: Fuel efficiency in compact cars is <= fuel efficiency in the average car.\n",
    "\n",
    "Alternate Hypothesis: Fuel efficiency in compact cars is > fuel efficiency in the average car.\n",
    "\n",
    "Step 3. See below\n",
    "\n",
    "Step 4.\n",
    "\n",
    "- More than 30 observations\n",
    "- one sample T-test"
   ]
  },
  {
   "cell_type": "code",
   "execution_count": 47,
   "id": "25702c87",
   "metadata": {},
   "outputs": [
    {
     "data": {
      "text/plain": [
       "<AxesSubplot:>"
      ]
     },
     "execution_count": 47,
     "metadata": {},
     "output_type": "execute_result"
    },
    {
     "data": {
      "image/png": "[encoded data removed]",
      "text/plain": [
       "<Figure size 432x288 with 1 Axes>"
      ]
     },
     "metadata": {
      "needs_background": "light"
     },
     "output_type": "display_data"
    }
   ],
   "source": [
    "compact_cars = mpg[mpg['class'] == 'compact'].mpg\n",
    "compact_cars.hist()"
   ]
  },
  {
   "cell_type": "code",
   "execution_count": 49,
   "id": "b288d2e6",
   "metadata": {},
   "outputs": [
    {
     "data": {
      "text/plain": [
       "<AxesSubplot:>"
      ]
     },
     "execution_count": 49,
     "metadata": {},
     "output_type": "execute_result"
    },
    {
     "data": {
      "image/png": "[encoded data removed]",
      "text/plain": [
       "<Figure size 432x288 with 1 Axes>"
      ]
     },
     "metadata": {
      "needs_background": "light"
     },
     "output_type": "display_data"
    }
   ],
   "source": [
    "average_cars = mpg.mpg\n",
    "average_cars.hist()"
   ]
  },
  {
   "cell_type": "code",
   "execution_count": 62,
   "id": "70d811a9",
   "metadata": {},
   "outputs": [
    {
     "data": {
      "text/plain": [
       "149    22\n",
       "43     20\n",
       "21     17\n",
       "200    16\n",
       "185    22\n",
       "131    13\n",
       "194    27\n",
       "30     12\n",
       "9      20\n",
       "83     15\n",
       "Name: mpg, dtype: int64"
      ]
     },
     "execution_count": 62,
     "metadata": {},
     "output_type": "execute_result"
    }
   ],
   "source": [
    "average_cars.sample(10)"
   ]
  },
  {
   "cell_type": "code",
   "execution_count": 57,
   "id": "a9aacff8",
   "metadata": {},
   "outputs": [],
   "source": [
    "#Step 3\n",
    "alpha = 0.05"
   ]
  },
  {
   "cell_type": "code",
   "execution_count": 63,
   "id": "9ecc74fe",
   "metadata": {},
   "outputs": [
    {
     "data": {
      "text/plain": [
       "(7.900972010653462, 4.1406369298935154e-10, 0.05)"
      ]
     },
     "execution_count": 63,
     "metadata": {},
     "output_type": "execute_result"
    }
   ],
   "source": [
    "#Step 4\n",
    "t,p = stats.ttest_1samp(compact_cars, average_cars.mean())\n",
    "t, p, alpha"
   ]
  },
  {
   "cell_type": "markdown",
   "id": "283d33c7",
   "metadata": {},
   "source": [
    "Step 5\n",
    "\n",
    "We reject the null hypothesis"
   ]
  },
  {
   "cell_type": "markdown",
   "id": "69f6a539",
   "metadata": {},
   "source": [
    "c. Do manual cars get better gas mileage than automatic cars?"
   ]
  },
  {
   "cell_type": "code",
   "execution_count": 69,
   "id": "759b7099",
   "metadata": {},
   "outputs": [
    {
     "data": {
      "text/plain": [
       "<AxesSubplot:>"
      ]
     },
     "execution_count": 69,
     "metadata": {},
     "output_type": "execute_result"
    },
    {
     "data": {
      "image/png": "[encoded data removed]",
      "text/plain": [
       "<Figure size 432x288 with 1 Axes>"
      ]
     },
     "metadata": {
      "needs_background": "light"
     },
     "output_type": "display_data"
    }
   ],
   "source": [
    "manual_mpg = mpg[mpg.trans.str.startswith('man')].mpg\n",
    "manual_mpg.hist()"
   ]
  },
  {
   "cell_type": "code",
   "execution_count": 72,
   "id": "995dee0f",
   "metadata": {},
   "outputs": [
    {
     "data": {
      "text/plain": [
       "<AxesSubplot:>"
      ]
     },
     "execution_count": 72,
     "metadata": {},
     "output_type": "execute_result"
    },
    {
     "data": {
      "image/png": "[encoded data removed]",
      "text/plain": [
       "<Figure size 432x288 with 1 Axes>"
      ]
     },
     "metadata": {
      "needs_background": "light"
     },
     "output_type": "display_data"
    }
   ],
   "source": [
    "automatic_mpg = mpg[mpg.trans.str.startswith('auto')].mpg\n",
    "automatic_mpg.hist()"
   ]
  },
  {
   "cell_type": "markdown",
   "id": "f2c96d80",
   "metadata": {},
   "source": [
    "Null Hypthesis: Manual cars get <= gas mileage than automatic cars.\n",
    "\n",
    "Alternate Hypothesis: Manual cars get > gas mileage than automatic cars."
   ]
  },
  {
   "cell_type": "code",
   "execution_count": 74,
   "id": "d551eef2",
   "metadata": {},
   "outputs": [],
   "source": [
    "alpha = 0.05"
   ]
  },
  {
   "cell_type": "code",
   "execution_count": 73,
   "id": "297e4ea6",
   "metadata": {},
   "outputs": [
    {
     "data": {
      "text/plain": [
       "(77, 157)"
      ]
     },
     "execution_count": 73,
     "metadata": {},
     "output_type": "execute_result"
    }
   ],
   "source": [
    "len(manual_mpg), len(automatic_mpg)"
   ]
  },
  {
   "cell_type": "code",
   "execution_count": 75,
   "id": "8ff43dd7",
   "metadata": {},
   "outputs": [
    {
     "data": {
      "text/plain": [
       "(26.38482570061516, 22.09096847950349)"
      ]
     },
     "execution_count": 75,
     "metadata": {},
     "output_type": "execute_result"
    }
   ],
   "source": [
    "manual_mpg.var(), automatic_mpg.var()"
   ]
  },
  {
   "cell_type": "code",
   "execution_count": 76,
   "id": "bd759b62",
   "metadata": {},
   "outputs": [
    {
     "data": {
      "text/plain": [
       "(4.440186128357423, 1.8115608289436676e-05, 0.05)"
      ]
     },
     "execution_count": 76,
     "metadata": {},
     "output_type": "execute_result"
    }
   ],
   "source": [
    "t, p = stats.ttest_ind(manual_mpg, automatic_mpg, equal_var=False)\n",
    "t, p, alpha"
   ]
  },
  {
   "cell_type": "markdown",
   "id": "367c6e0c",
   "metadata": {},
   "source": [
    "We reject the null hypothesis."
   ]
  },
  {
   "cell_type": "code",
   "execution_count": null,
   "id": "ae8cd3dd",
   "metadata": {},
   "outputs": [],
   "source": []
  }
 ],
 "metadata": {
  "kernelspec": {
   "display_name": "Python 3",
   "language": "python",
   "name": "python3"
  },
  "language_info": {
   "codemirror_mode": {
    "name": "ipython",
    "version": 3
   },
   "file_extension": ".py",
   "mimetype": "text/x-python",
   "name": "python",
   "nbconvert_exporter": "python",
   "pygments_lexer": "ipython3",
   "version": "3.8.8"
  }
 },
 "nbformat": 4,
 "nbformat_minor": 5
}
