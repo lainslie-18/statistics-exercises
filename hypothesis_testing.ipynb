{
 "cells": [
  {
   "cell_type": "markdown",
   "id": "095580c8",
   "metadata": {},
   "source": [
    "For each of the following questions, formulate a null and alternative hypothesis (be as specific as you can be), then give an example of what a true positive, true negative, type I and type II errors would look like. Note that some of the questions are intentionally phrased in a vague way. It is your job to reword these as more precise questions that could be tested."
   ]
  },
  {
   "cell_type": "markdown",
   "id": "4b201ca6",
   "metadata": {},
   "source": [
    "1. Has the network latency gone up since we switched internet service providers?\n",
    "Reworded: Is there a difference in network latency since we switched internet service providers?\n",
    "\n",
    "**Null Hypthesis:** There is no difference in network latency since we switched\n",
    "\n",
    "**Alternative Hypothesis:** There is a difference in network latency\n",
    "\n",
    "**True Positive:** There is a difference in network latency\n",
    "\n",
    "**True Negative:** There is no difference in network latency\n",
    "\n",
    "**Type I Error:** Network latency has gone up since switching when it actually hasn't\n",
    "\n",
    "**Type II Error:** There is no difference in network latency when there really is"
   ]
  },
  {
   "cell_type": "markdown",
   "id": "7fe1d68d",
   "metadata": {},
   "source": [
    "2. Is the website redesign any good?\n",
    "Has the website redesign increased customer traffic?\n",
    "\n",
    "**Null Hypthesis:** The website redesign has not increased customer traffic\n",
    "\n",
    "**Alternative Hypothesis:** The website redesign has increased customer traffic\n",
    "\n",
    "**True Positive:** The website redesign has increased customer traffic\n",
    "\n",
    "**True Negative:** The website redesign has not increased customer traffic\n",
    "\n",
    "**Type I Error:** The website redesign has increased customer traffic when it hasn't\n",
    "\n",
    "**Type II Error:** The website redesign has not increased customer traffic when it has"
   ]
  },
  {
   "cell_type": "markdown",
   "id": "ab152499",
   "metadata": {},
   "source": [
    "3. Is our television ad driving more sales?\n",
    "Have sales been impacted since we put oout the new television ad?\n",
    "\n",
    "**Null Hypthesis:** Sales have not been impacted by the television ad\n",
    "\n",
    "**Alternative Hypothesis:** Sales have been impacted by the television ad\n",
    "\n",
    "**True Positive:** Sales have been impacted by the television ad\n",
    "\n",
    "**True Negative:** Sales have not been impacted by the television ad\n",
    "\n",
    "**Type I Error:** Sales have been impacted by the television ad when they really haven't\n",
    "\n",
    "**Type II Error:** Sales have not been impacted by the television ad when they really have"
   ]
  },
  {
   "cell_type": "markdown",
   "id": "5bd7529a",
   "metadata": {},
   "source": [
    "### T-Test"
   ]
  },
  {
   "cell_type": "code",
   "execution_count": 1,
   "id": "f0babbd5",
   "metadata": {},
   "outputs": [],
   "source": [
    "import numpy as np\n",
    "import seaborn as sns\n",
    "import scipy.stats as stats\n",
    "import pandas as pd\n",
    "import matplotlib.pyplot as plt\n",
    "from pydataset import data"
   ]
  },
  {
   "cell_type": "markdown",
   "id": "87321a26",
   "metadata": {},
   "source": [
    "1. Ace Realty wants to determine whether the average time it takes to sell homes is different for its two offices. A sample of 40 sales from office #1 revealed a mean of 90 days and a standard deviation of 15 days. A sample of 50 sales from office #2 revealed a mean of 100 days and a standard deviation of 20 days. Use a .05 level of significance."
   ]
  },
  {
   "cell_type": "code",
   "execution_count": 2,
   "id": "db9e6895",
   "metadata": {},
   "outputs": [],
   "source": [
    "# Null Hypothesis: There is no difference in the average time it takes to sell homes between the two offices\n",
    "# Alternate Hypothesis: There is a difference in the average time it takes to sell homes between the two offices"
   ]
  },
  {
   "cell_type": "code",
   "execution_count": 3,
   "id": "69a7f91a",
   "metadata": {},
   "outputs": [],
   "source": [
    "alpha = 0.05\n",
    "\n",
    "n1 = 40\n",
    "mean1 = 90\n",
    "std1 = 15\n",
    "\n",
    "n2 = 50\n",
    "mean2 = 100\n",
    "std2 = 20"
   ]
  },
  {
   "cell_type": "code",
   "execution_count": 4,
   "id": "f9793236",
   "metadata": {},
   "outputs": [
    {
     "data": {
      "text/plain": [
       "[<matplotlib.lines.Line2D at 0x7fea201ca8b0>]"
      ]
     },
     "execution_count": 4,
     "metadata": {},
     "output_type": "execute_result"
    },
    {
     "data": {
      "image/png": "[encoded data removed]",
      "text/plain": [
       "<Figure size 432x288 with 1 Axes>"
      ]
     },
     "metadata": {
      "needs_background": "light"
     },
     "output_type": "display_data"
    }
   ],
   "source": [
    "x = np.arange(50,150)\n",
    "\n",
    "y1 = stats.norm(mean1, std1).pdf(x)\n",
    "y2 = stats.norm(mean2, std2).pdf(x)\n",
    "\n",
    "plt.plot(x,y1)\n",
    "plt.plot(x,y2)"
   ]
  },
  {
   "cell_type": "code",
   "execution_count": 5,
   "id": "3c5d2c9e",
   "metadata": {},
   "outputs": [
    {
     "data": {
      "text/plain": [
       "(225, 400)"
      ]
     },
     "execution_count": 5,
     "metadata": {},
     "output_type": "execute_result"
    }
   ],
   "source": [
    "std1**2, std2**2"
   ]
  },
  {
   "cell_type": "code",
   "execution_count": 6,
   "id": "16b117de",
   "metadata": {},
   "outputs": [
    {
     "data": {
      "text/plain": [
       "(-2.7091418459143854, 0.00811206270346016, 0.05)"
      ]
     },
     "execution_count": 6,
     "metadata": {},
     "output_type": "execute_result"
    }
   ],
   "source": [
    "t,p = stats.ttest_ind_from_stats(mean1, std1, n1, mean2, std2, n2, equal_var=False)\n",
    "t,p,alpha"
   ]
  },
  {
   "cell_type": "code",
   "execution_count": 7,
   "id": "32998fdf",
   "metadata": {},
   "outputs": [],
   "source": [
    "# We reject the null hypothesis"
   ]
  },
  {
   "cell_type": "markdown",
   "id": "5e374b0d",
   "metadata": {},
   "source": [
    "2. Load the mpg dataset and use it to answer the following questions:"
   ]
  },
  {
   "cell_type": "code",
   "execution_count": 8,
   "id": "d8b49ea5",
   "metadata": {},
   "outputs": [
    {
     "data": {
      "text/html": [
       "<div>\n",
       "<style scoped>\n",
       "    .dataframe tbody tr th:only-of-type {\n",
       "        vertical-align: middle;\n",
       "    }\n",
       "\n",
       "    .dataframe tbody tr th {\n",
       "        vertical-align: top;\n",
       "    }\n",
       "\n",
       "    .dataframe thead th {\n",
       "        text-align: right;\n",
       "    }\n",
       "</style>\n",
       "<table border=\"1\" class=\"dataframe\">\n",
       "  <thead>\n",
       "    <tr style=\"text-align: right;\">\n",
       "      <th></th>\n",
       "      <th>manufacturer</th>\n",
       "      <th>model</th>\n",
       "      <th>displ</th>\n",
       "      <th>year</th>\n",
       "      <th>cyl</th>\n",
       "      <th>trans</th>\n",
       "      <th>drv</th>\n",
       "      <th>cty</th>\n",
       "      <th>hwy</th>\n",
       "      <th>fl</th>\n",
       "      <th>class</th>\n",
       "    </tr>\n",
       "  </thead>\n",
       "  <tbody>\n",
       "    <tr>\n",
       "      <th>132</th>\n",
       "      <td>land rover</td>\n",
       "      <td>range rover</td>\n",
       "      <td>4.2</td>\n",
       "      <td>2008</td>\n",
       "      <td>8</td>\n",
       "      <td>auto(s6)</td>\n",
       "      <td>4</td>\n",
       "      <td>12</td>\n",
       "      <td>18</td>\n",
       "      <td>r</td>\n",
       "      <td>suv</td>\n",
       "    </tr>\n",
       "    <tr>\n",
       "      <th>18</th>\n",
       "      <td>audi</td>\n",
       "      <td>a6 quattro</td>\n",
       "      <td>4.2</td>\n",
       "      <td>2008</td>\n",
       "      <td>8</td>\n",
       "      <td>auto(s6)</td>\n",
       "      <td>4</td>\n",
       "      <td>16</td>\n",
       "      <td>23</td>\n",
       "      <td>p</td>\n",
       "      <td>midsize</td>\n",
       "    </tr>\n",
       "    <tr>\n",
       "      <th>198</th>\n",
       "      <td>toyota</td>\n",
       "      <td>corolla</td>\n",
       "      <td>1.8</td>\n",
       "      <td>2008</td>\n",
       "      <td>4</td>\n",
       "      <td>auto(l4)</td>\n",
       "      <td>f</td>\n",
       "      <td>26</td>\n",
       "      <td>35</td>\n",
       "      <td>r</td>\n",
       "      <td>compact</td>\n",
       "    </tr>\n",
       "    <tr>\n",
       "      <th>163</th>\n",
       "      <td>subaru</td>\n",
       "      <td>forester awd</td>\n",
       "      <td>2.5</td>\n",
       "      <td>2008</td>\n",
       "      <td>4</td>\n",
       "      <td>manual(m5)</td>\n",
       "      <td>4</td>\n",
       "      <td>19</td>\n",
       "      <td>25</td>\n",
       "      <td>p</td>\n",
       "      <td>suv</td>\n",
       "    </tr>\n",
       "    <tr>\n",
       "      <th>61</th>\n",
       "      <td>dodge</td>\n",
       "      <td>durango 4wd</td>\n",
       "      <td>4.7</td>\n",
       "      <td>2008</td>\n",
       "      <td>8</td>\n",
       "      <td>auto(l5)</td>\n",
       "      <td>4</td>\n",
       "      <td>13</td>\n",
       "      <td>17</td>\n",
       "      <td>r</td>\n",
       "      <td>suv</td>\n",
       "    </tr>\n",
       "  </tbody>\n",
       "</table>\n",
       "</div>"
      ],
      "text/plain": [
       "    manufacturer         model  displ  year  cyl       trans drv  cty  hwy fl  \\\n",
       "132   land rover   range rover    4.2  2008    8    auto(s6)   4   12   18  r   \n",
       "18          audi    a6 quattro    4.2  2008    8    auto(s6)   4   16   23  p   \n",
       "198       toyota       corolla    1.8  2008    4    auto(l4)   f   26   35  r   \n",
       "163       subaru  forester awd    2.5  2008    4  manual(m5)   4   19   25  p   \n",
       "61         dodge   durango 4wd    4.7  2008    8    auto(l5)   4   13   17  r   \n",
       "\n",
       "       class  \n",
       "132      suv  \n",
       "18   midsize  \n",
       "198  compact  \n",
       "163      suv  \n",
       "61       suv  "
      ]
     },
     "execution_count": 8,
     "metadata": {},
     "output_type": "execute_result"
    }
   ],
   "source": [
    "mpg = data('mpg')\n",
    "mpg.sample(5)"
   ]
  },
  {
   "cell_type": "markdown",
   "id": "77694ad2",
   "metadata": {},
   "source": [
    "a. Is there a difference in fuel-efficiency in cars from 2008 vs 1999?\n",
    "\n",
    "Step 4.\n",
    "\n",
    "- More than 30 observations\n",
    "- independent samples\n",
    "- Fairly equal variance"
   ]
  },
  {
   "cell_type": "code",
   "execution_count": 9,
   "id": "aa181180",
   "metadata": {},
   "outputs": [],
   "source": [
    "# Null Hypothesis: Fuel efficiency in cars from 2008 vs 1999 is the same.\n",
    "# Alternate Hypothesis: Fuel efficiency in cars from 2008 vs 1999 is different"
   ]
  },
  {
   "cell_type": "code",
   "execution_count": 10,
   "id": "a441a438",
   "metadata": {},
   "outputs": [
    {
     "data": {
      "text/html": [
       "<div>\n",
       "<style scoped>\n",
       "    .dataframe tbody tr th:only-of-type {\n",
       "        vertical-align: middle;\n",
       "    }\n",
       "\n",
       "    .dataframe tbody tr th {\n",
       "        vertical-align: top;\n",
       "    }\n",
       "\n",
       "    .dataframe thead th {\n",
       "        text-align: right;\n",
       "    }\n",
       "</style>\n",
       "<table border=\"1\" class=\"dataframe\">\n",
       "  <thead>\n",
       "    <tr style=\"text-align: right;\">\n",
       "      <th></th>\n",
       "      <th>manufacturer</th>\n",
       "      <th>model</th>\n",
       "      <th>displ</th>\n",
       "      <th>year</th>\n",
       "      <th>cyl</th>\n",
       "      <th>trans</th>\n",
       "      <th>drv</th>\n",
       "      <th>cty</th>\n",
       "      <th>hwy</th>\n",
       "      <th>fl</th>\n",
       "      <th>class</th>\n",
       "      <th>mpg</th>\n",
       "    </tr>\n",
       "  </thead>\n",
       "  <tbody>\n",
       "    <tr>\n",
       "      <th>20</th>\n",
       "      <td>chevrolet</td>\n",
       "      <td>c1500 suburban 2wd</td>\n",
       "      <td>5.3</td>\n",
       "      <td>2008</td>\n",
       "      <td>8</td>\n",
       "      <td>auto(l4)</td>\n",
       "      <td>r</td>\n",
       "      <td>11</td>\n",
       "      <td>15</td>\n",
       "      <td>e</td>\n",
       "      <td>suv</td>\n",
       "      <td>13</td>\n",
       "    </tr>\n",
       "    <tr>\n",
       "      <th>194</th>\n",
       "      <td>toyota</td>\n",
       "      <td>corolla</td>\n",
       "      <td>1.8</td>\n",
       "      <td>1999</td>\n",
       "      <td>4</td>\n",
       "      <td>auto(l3)</td>\n",
       "      <td>f</td>\n",
       "      <td>24</td>\n",
       "      <td>30</td>\n",
       "      <td>r</td>\n",
       "      <td>compact</td>\n",
       "      <td>27</td>\n",
       "    </tr>\n",
       "    <tr>\n",
       "      <th>54</th>\n",
       "      <td>dodge</td>\n",
       "      <td>dakota pickup 4wd</td>\n",
       "      <td>4.7</td>\n",
       "      <td>2008</td>\n",
       "      <td>8</td>\n",
       "      <td>auto(l5)</td>\n",
       "      <td>4</td>\n",
       "      <td>14</td>\n",
       "      <td>19</td>\n",
       "      <td>r</td>\n",
       "      <td>pickup</td>\n",
       "      <td>16</td>\n",
       "    </tr>\n",
       "    <tr>\n",
       "      <th>91</th>\n",
       "      <td>ford</td>\n",
       "      <td>mustang</td>\n",
       "      <td>3.8</td>\n",
       "      <td>1999</td>\n",
       "      <td>6</td>\n",
       "      <td>manual(m5)</td>\n",
       "      <td>r</td>\n",
       "      <td>18</td>\n",
       "      <td>26</td>\n",
       "      <td>r</td>\n",
       "      <td>subcompact</td>\n",
       "      <td>22</td>\n",
       "    </tr>\n",
       "    <tr>\n",
       "      <th>129</th>\n",
       "      <td>jeep</td>\n",
       "      <td>grand cherokee 4wd</td>\n",
       "      <td>5.7</td>\n",
       "      <td>2008</td>\n",
       "      <td>8</td>\n",
       "      <td>auto(l5)</td>\n",
       "      <td>4</td>\n",
       "      <td>13</td>\n",
       "      <td>18</td>\n",
       "      <td>r</td>\n",
       "      <td>suv</td>\n",
       "      <td>16</td>\n",
       "    </tr>\n",
       "  </tbody>\n",
       "</table>\n",
       "</div>"
      ],
      "text/plain": [
       "    manufacturer               model  displ  year  cyl       trans drv  cty  \\\n",
       "20     chevrolet  c1500 suburban 2wd    5.3  2008    8    auto(l4)   r   11   \n",
       "194       toyota             corolla    1.8  1999    4    auto(l3)   f   24   \n",
       "54         dodge   dakota pickup 4wd    4.7  2008    8    auto(l5)   4   14   \n",
       "91          ford             mustang    3.8  1999    6  manual(m5)   r   18   \n",
       "129         jeep  grand cherokee 4wd    5.7  2008    8    auto(l5)   4   13   \n",
       "\n",
       "     hwy fl       class  mpg  \n",
       "20    15  e         suv   13  \n",
       "194   30  r     compact   27  \n",
       "54    19  r      pickup   16  \n",
       "91    26  r  subcompact   22  \n",
       "129   18  r         suv   16  "
      ]
     },
     "execution_count": 10,
     "metadata": {},
     "output_type": "execute_result"
    }
   ],
   "source": [
    "mpg['mpg'] = round((mpg.cty + mpg.hwy) / 2).astype(int)\n",
    "mpg.sample(5)"
   ]
  },
  {
   "cell_type": "code",
   "execution_count": 11,
   "id": "bbbf3a8b",
   "metadata": {},
   "outputs": [
    {
     "data": {
      "text/plain": [
       "<AxesSubplot:>"
      ]
     },
     "execution_count": 11,
     "metadata": {},
     "output_type": "execute_result"
    },
    {
     "data": {
      "image/png": "[encoded data removed]",
      "text/plain": [
       "<Figure size 432x288 with 1 Axes>"
      ]
     },
     "metadata": {
      "needs_background": "light"
     },
     "output_type": "display_data"
    }
   ],
   "source": [
    "cars_2008 = mpg[mpg.year == 2008].mpg\n",
    "cars_2008.hist()"
   ]
  },
  {
   "cell_type": "code",
   "execution_count": 12,
   "id": "161704c1",
   "metadata": {},
   "outputs": [
    {
     "data": {
      "text/plain": [
       "<AxesSubplot:>"
      ]
     },
     "execution_count": 12,
     "metadata": {},
     "output_type": "execute_result"
    },
    {
     "data": {
      "image/png": "[encoded data removed]",
      "text/plain": [
       "<Figure size 432x288 with 1 Axes>"
      ]
     },
     "metadata": {
      "needs_background": "light"
     },
     "output_type": "display_data"
    }
   ],
   "source": [
    "cars_1999 = mpg[mpg.year == 1999].mpg\n",
    "cars_1999.hist()"
   ]
  },
  {
   "cell_type": "code",
   "execution_count": 13,
   "id": "f88a74ac",
   "metadata": {},
   "outputs": [
    {
     "data": {
      "text/plain": [
       "(117, 117)"
      ]
     },
     "execution_count": 13,
     "metadata": {},
     "output_type": "execute_result"
    }
   ],
   "source": [
    "cars_2008.count(), cars_1999.count()"
   ]
  },
  {
   "cell_type": "code",
   "execution_count": 14,
   "id": "ea691e11",
   "metadata": {},
   "outputs": [],
   "source": [
    "alpha = 0.05"
   ]
  },
  {
   "cell_type": "code",
   "execution_count": 15,
   "id": "d22fa8e8",
   "metadata": {},
   "outputs": [
    {
     "data": {
      "text/plain": [
       "(24.8745947539051, 26.351458885941646)"
      ]
     },
     "execution_count": 15,
     "metadata": {},
     "output_type": "execute_result"
    }
   ],
   "source": [
    "cars_2008.var(), cars_1999.var()"
   ]
  },
  {
   "cell_type": "code",
   "execution_count": 16,
   "id": "14c5fd17",
   "metadata": {},
   "outputs": [
    {
     "data": {
      "text/plain": [
       "LeveneResult(statistic=0.18278366922458814, pvalue=0.6693883864566512)"
      ]
     },
     "execution_count": 16,
     "metadata": {},
     "output_type": "execute_result"
    }
   ],
   "source": [
    "stats.levene(cars_2008, cars_1999)"
   ]
  },
  {
   "cell_type": "code",
   "execution_count": 17,
   "id": "fc7d88e1",
   "metadata": {},
   "outputs": [
    {
     "data": {
      "text/plain": [
       "(-0.24542297716258815, 0.8063459014623406, 0.05)"
      ]
     },
     "execution_count": 17,
     "metadata": {},
     "output_type": "execute_result"
    }
   ],
   "source": [
    "t,p = stats.ttest_ind(cars_2008, cars_1999)\n",
    "t,p,alpha"
   ]
  },
  {
   "cell_type": "code",
   "execution_count": 18,
   "id": "6ea6b7b6",
   "metadata": {},
   "outputs": [],
   "source": [
    "# We fail to reject the null hypothesis"
   ]
  },
  {
   "cell_type": "markdown",
   "id": "c88af565",
   "metadata": {},
   "source": [
    "b. Are compact cars more fuel-efficient than the average car?"
   ]
  },
  {
   "cell_type": "code",
   "execution_count": 19,
   "id": "7c0d17d8",
   "metadata": {},
   "outputs": [],
   "source": [
    "# Null Hypothesis: Fuel efficiency in compact cars is <= fuel efficiency in the average car.\n",
    "# Alternate Hypothesis: Fuel efficiency in compact cars is > fuel efficiency in the average car."
   ]
  },
  {
   "cell_type": "code",
   "execution_count": 20,
   "id": "25702c87",
   "metadata": {},
   "outputs": [
    {
     "data": {
      "text/plain": [
       "<AxesSubplot:>"
      ]
     },
     "execution_count": 20,
     "metadata": {},
     "output_type": "execute_result"
    },
    {
     "data": {
      "image/png": "[encoded data removed]",
      "text/plain": [
       "<Figure size 432x288 with 1 Axes>"
      ]
     },
     "metadata": {
      "needs_background": "light"
     },
     "output_type": "display_data"
    }
   ],
   "source": [
    "compact_cars = mpg[mpg['class'] == 'compact'].mpg\n",
    "compact_cars.hist()"
   ]
  },
  {
   "cell_type": "code",
   "execution_count": 21,
   "id": "b288d2e6",
   "metadata": {},
   "outputs": [
    {
     "data": {
      "text/plain": [
       "<AxesSubplot:>"
      ]
     },
     "execution_count": 21,
     "metadata": {},
     "output_type": "execute_result"
    },
    {
     "data": {
      "image/png": "[encoded data removed]",
      "text/plain": [
       "<Figure size 432x288 with 1 Axes>"
      ]
     },
     "metadata": {
      "needs_background": "light"
     },
     "output_type": "display_data"
    }
   ],
   "source": [
    "average_cars = mpg.mpg\n",
    "average_cars.hist()"
   ]
  },
  {
   "cell_type": "code",
   "execution_count": 22,
   "id": "70d811a9",
   "metadata": {},
   "outputs": [
    {
     "data": {
      "text/plain": [
       "(47, 234)"
      ]
     },
     "execution_count": 22,
     "metadata": {},
     "output_type": "execute_result"
    }
   ],
   "source": [
    "compact_cars.count(), average_cars.count()"
   ]
  },
  {
   "cell_type": "code",
   "execution_count": 23,
   "id": "a9aacff8",
   "metadata": {},
   "outputs": [],
   "source": [
    "alpha = 0.05"
   ]
  },
  {
   "cell_type": "code",
   "execution_count": 24,
   "id": "9ecc74fe",
   "metadata": {},
   "outputs": [
    {
     "data": {
      "text/plain": [
       "(7.900972010653462, 2.0703184649467577e-10, 0.05)"
      ]
     },
     "execution_count": 24,
     "metadata": {},
     "output_type": "execute_result"
    }
   ],
   "source": [
    "t,p = stats.ttest_1samp(compact_cars, average_cars.mean())\n",
    "t, p/2, alpha"
   ]
  },
  {
   "cell_type": "code",
   "execution_count": 25,
   "id": "39c310df",
   "metadata": {},
   "outputs": [],
   "source": [
    "# We fail to reject the null hypothesis"
   ]
  },
  {
   "cell_type": "markdown",
   "id": "69f6a539",
   "metadata": {},
   "source": [
    "c. Do manual cars get better gas mileage than automatic cars?"
   ]
  },
  {
   "cell_type": "code",
   "execution_count": 26,
   "id": "fe6c61ce",
   "metadata": {},
   "outputs": [],
   "source": [
    "# Null Hypthesis: Manual cars get <= gas mileage than automatic cars.\n",
    "# Alternate Hypothesis: Manual cars get > gas mileage than automatic cars."
   ]
  },
  {
   "cell_type": "code",
   "execution_count": 27,
   "id": "759b7099",
   "metadata": {},
   "outputs": [
    {
     "data": {
      "text/plain": [
       "<AxesSubplot:>"
      ]
     },
     "execution_count": 27,
     "metadata": {},
     "output_type": "execute_result"
    },
    {
     "data": {
      "image/png": "[encoded data removed]",
      "text/plain": [
       "<Figure size 432x288 with 1 Axes>"
      ]
     },
     "metadata": {
      "needs_background": "light"
     },
     "output_type": "display_data"
    }
   ],
   "source": [
    "manual_mpg = mpg[mpg.trans.str.startswith('man')].mpg\n",
    "manual_mpg.hist()"
   ]
  },
  {
   "cell_type": "code",
   "execution_count": 28,
   "id": "995dee0f",
   "metadata": {},
   "outputs": [
    {
     "data": {
      "text/plain": [
       "<AxesSubplot:>"
      ]
     },
     "execution_count": 28,
     "metadata": {},
     "output_type": "execute_result"
    },
    {
     "data": {
      "image/png": "[encoded data removed]",
      "text/plain": [
       "<Figure size 432x288 with 1 Axes>"
      ]
     },
     "metadata": {
      "needs_background": "light"
     },
     "output_type": "display_data"
    }
   ],
   "source": [
    "automatic_mpg = mpg[mpg.trans.str.startswith('auto')].mpg\n",
    "automatic_mpg.hist()"
   ]
  },
  {
   "cell_type": "code",
   "execution_count": 29,
   "id": "d551eef2",
   "metadata": {},
   "outputs": [],
   "source": [
    "alpha = 0.05"
   ]
  },
  {
   "cell_type": "code",
   "execution_count": 30,
   "id": "297e4ea6",
   "metadata": {},
   "outputs": [
    {
     "data": {
      "text/plain": [
       "(77, 157)"
      ]
     },
     "execution_count": 30,
     "metadata": {},
     "output_type": "execute_result"
    }
   ],
   "source": [
    "len(manual_mpg), len(automatic_mpg)"
   ]
  },
  {
   "cell_type": "code",
   "execution_count": 31,
   "id": "8ff43dd7",
   "metadata": {},
   "outputs": [
    {
     "data": {
      "text/plain": [
       "(26.38482570061516, 22.09096847950349)"
      ]
     },
     "execution_count": 31,
     "metadata": {},
     "output_type": "execute_result"
    }
   ],
   "source": [
    "manual_mpg.var(), automatic_mpg.var()"
   ]
  },
  {
   "cell_type": "code",
   "execution_count": 32,
   "id": "204b4df6",
   "metadata": {},
   "outputs": [
    {
     "data": {
      "text/plain": [
       "LeveneResult(statistic=0.2855150329227081, pvalue=0.593620706753822)"
      ]
     },
     "execution_count": 32,
     "metadata": {},
     "output_type": "execute_result"
    }
   ],
   "source": [
    "stats.levene(manual_mpg, automatic_mpg)"
   ]
  },
  {
   "cell_type": "code",
   "execution_count": 33,
   "id": "bd759b62",
   "metadata": {},
   "outputs": [
    {
     "data": {
      "text/plain": [
       "(4.577362852417845, 7.677168617852477e-06, 0.05)"
      ]
     },
     "execution_count": 33,
     "metadata": {},
     "output_type": "execute_result"
    }
   ],
   "source": [
    "t, p = stats.ttest_ind(manual_mpg, automatic_mpg)\n",
    "t, p, alpha"
   ]
  },
  {
   "cell_type": "code",
   "execution_count": 34,
   "id": "ae8cd3dd",
   "metadata": {},
   "outputs": [],
   "source": [
    "# We reject the null hypothesis"
   ]
  },
  {
   "cell_type": "markdown",
   "id": "706536b1",
   "metadata": {},
   "source": [
    "### Correlation Exercises"
   ]
  },
  {
   "cell_type": "markdown",
   "id": "9c38baf9",
   "metadata": {},
   "source": [
    "1. Use the telco_churn data. "
   ]
  },
  {
   "cell_type": "code",
   "execution_count": 35,
   "id": "dbf5d553",
   "metadata": {},
   "outputs": [
    {
     "data": {
      "text/html": [
       "<div>\n",
       "<style scoped>\n",
       "    .dataframe tbody tr th:only-of-type {\n",
       "        vertical-align: middle;\n",
       "    }\n",
       "\n",
       "    .dataframe tbody tr th {\n",
       "        vertical-align: top;\n",
       "    }\n",
       "\n",
       "    .dataframe thead th {\n",
       "        text-align: right;\n",
       "    }\n",
       "</style>\n",
       "<table border=\"1\" class=\"dataframe\">\n",
       "  <thead>\n",
       "    <tr style=\"text-align: right;\">\n",
       "      <th></th>\n",
       "      <th>customerID</th>\n",
       "      <th>gender</th>\n",
       "      <th>SeniorCitizen</th>\n",
       "      <th>Partner</th>\n",
       "      <th>Dependents</th>\n",
       "      <th>tenure</th>\n",
       "      <th>PhoneService</th>\n",
       "      <th>MultipleLines</th>\n",
       "      <th>InternetService</th>\n",
       "      <th>OnlineSecurity</th>\n",
       "      <th>...</th>\n",
       "      <th>DeviceProtection</th>\n",
       "      <th>TechSupport</th>\n",
       "      <th>StreamingTV</th>\n",
       "      <th>StreamingMovies</th>\n",
       "      <th>Contract</th>\n",
       "      <th>PaperlessBilling</th>\n",
       "      <th>PaymentMethod</th>\n",
       "      <th>MonthlyCharges</th>\n",
       "      <th>TotalCharges</th>\n",
       "      <th>Churn</th>\n",
       "    </tr>\n",
       "  </thead>\n",
       "  <tbody>\n",
       "    <tr>\n",
       "      <th>5159</th>\n",
       "      <td>5928-QLDHB</td>\n",
       "      <td>Male</td>\n",
       "      <td>0</td>\n",
       "      <td>No</td>\n",
       "      <td>No</td>\n",
       "      <td>9</td>\n",
       "      <td>Yes</td>\n",
       "      <td>Yes</td>\n",
       "      <td>Fiber optic</td>\n",
       "      <td>No</td>\n",
       "      <td>...</td>\n",
       "      <td>No</td>\n",
       "      <td>No</td>\n",
       "      <td>No</td>\n",
       "      <td>No</td>\n",
       "      <td>Month-to-month</td>\n",
       "      <td>Yes</td>\n",
       "      <td>Electronic check</td>\n",
       "      <td>76.25</td>\n",
       "      <td>684.85</td>\n",
       "      <td>No</td>\n",
       "    </tr>\n",
       "    <tr>\n",
       "      <th>4503</th>\n",
       "      <td>9658-WYUFB</td>\n",
       "      <td>Female</td>\n",
       "      <td>0</td>\n",
       "      <td>No</td>\n",
       "      <td>No</td>\n",
       "      <td>17</td>\n",
       "      <td>Yes</td>\n",
       "      <td>Yes</td>\n",
       "      <td>Fiber optic</td>\n",
       "      <td>Yes</td>\n",
       "      <td>...</td>\n",
       "      <td>No</td>\n",
       "      <td>No</td>\n",
       "      <td>Yes</td>\n",
       "      <td>No</td>\n",
       "      <td>Month-to-month</td>\n",
       "      <td>Yes</td>\n",
       "      <td>Electronic check</td>\n",
       "      <td>94.40</td>\n",
       "      <td>1617.50</td>\n",
       "      <td>Yes</td>\n",
       "    </tr>\n",
       "    <tr>\n",
       "      <th>452</th>\n",
       "      <td>8847-GEOOQ</td>\n",
       "      <td>Male</td>\n",
       "      <td>0</td>\n",
       "      <td>Yes</td>\n",
       "      <td>No</td>\n",
       "      <td>60</td>\n",
       "      <td>No</td>\n",
       "      <td>No phone service</td>\n",
       "      <td>DSL</td>\n",
       "      <td>No</td>\n",
       "      <td>...</td>\n",
       "      <td>Yes</td>\n",
       "      <td>Yes</td>\n",
       "      <td>Yes</td>\n",
       "      <td>Yes</td>\n",
       "      <td>Month-to-month</td>\n",
       "      <td>Yes</td>\n",
       "      <td>Bank transfer (automatic)</td>\n",
       "      <td>60.20</td>\n",
       "      <td>3582.40</td>\n",
       "      <td>No</td>\n",
       "    </tr>\n",
       "    <tr>\n",
       "      <th>2011</th>\n",
       "      <td>1492-QGCLU</td>\n",
       "      <td>Male</td>\n",
       "      <td>0</td>\n",
       "      <td>Yes</td>\n",
       "      <td>Yes</td>\n",
       "      <td>53</td>\n",
       "      <td>Yes</td>\n",
       "      <td>Yes</td>\n",
       "      <td>DSL</td>\n",
       "      <td>Yes</td>\n",
       "      <td>...</td>\n",
       "      <td>Yes</td>\n",
       "      <td>Yes</td>\n",
       "      <td>Yes</td>\n",
       "      <td>Yes</td>\n",
       "      <td>Month-to-month</td>\n",
       "      <td>No</td>\n",
       "      <td>Electronic check</td>\n",
       "      <td>85.70</td>\n",
       "      <td>4616.10</td>\n",
       "      <td>No</td>\n",
       "    </tr>\n",
       "    <tr>\n",
       "      <th>2670</th>\n",
       "      <td>4531-AUZNK</td>\n",
       "      <td>Female</td>\n",
       "      <td>0</td>\n",
       "      <td>Yes</td>\n",
       "      <td>Yes</td>\n",
       "      <td>51</td>\n",
       "      <td>Yes</td>\n",
       "      <td>Yes</td>\n",
       "      <td>Fiber optic</td>\n",
       "      <td>Yes</td>\n",
       "      <td>...</td>\n",
       "      <td>No</td>\n",
       "      <td>Yes</td>\n",
       "      <td>Yes</td>\n",
       "      <td>No</td>\n",
       "      <td>One year</td>\n",
       "      <td>Yes</td>\n",
       "      <td>Mailed check</td>\n",
       "      <td>95.15</td>\n",
       "      <td>5000.05</td>\n",
       "      <td>No</td>\n",
       "    </tr>\n",
       "  </tbody>\n",
       "</table>\n",
       "<p>5 rows × 21 columns</p>\n",
       "</div>"
      ],
      "text/plain": [
       "      customerID  gender  SeniorCitizen Partner Dependents  tenure  \\\n",
       "5159  5928-QLDHB    Male              0      No         No       9   \n",
       "4503  9658-WYUFB  Female              0      No         No      17   \n",
       "452   8847-GEOOQ    Male              0     Yes         No      60   \n",
       "2011  1492-QGCLU    Male              0     Yes        Yes      53   \n",
       "2670  4531-AUZNK  Female              0     Yes        Yes      51   \n",
       "\n",
       "     PhoneService     MultipleLines InternetService OnlineSecurity  ...  \\\n",
       "5159          Yes               Yes     Fiber optic             No  ...   \n",
       "4503          Yes               Yes     Fiber optic            Yes  ...   \n",
       "452            No  No phone service             DSL             No  ...   \n",
       "2011          Yes               Yes             DSL            Yes  ...   \n",
       "2670          Yes               Yes     Fiber optic            Yes  ...   \n",
       "\n",
       "     DeviceProtection TechSupport StreamingTV StreamingMovies        Contract  \\\n",
       "5159               No          No          No              No  Month-to-month   \n",
       "4503               No          No         Yes              No  Month-to-month   \n",
       "452               Yes         Yes         Yes             Yes  Month-to-month   \n",
       "2011              Yes         Yes         Yes             Yes  Month-to-month   \n",
       "2670               No         Yes         Yes              No        One year   \n",
       "\n",
       "     PaperlessBilling              PaymentMethod MonthlyCharges  TotalCharges  \\\n",
       "5159              Yes           Electronic check          76.25        684.85   \n",
       "4503              Yes           Electronic check          94.40       1617.50   \n",
       "452               Yes  Bank transfer (automatic)          60.20       3582.40   \n",
       "2011               No           Electronic check          85.70       4616.10   \n",
       "2670              Yes               Mailed check          95.15       5000.05   \n",
       "\n",
       "      Churn  \n",
       "5159     No  \n",
       "4503    Yes  \n",
       "452      No  \n",
       "2011     No  \n",
       "2670     No  \n",
       "\n",
       "[5 rows x 21 columns]"
      ]
     },
     "execution_count": 35,
     "metadata": {},
     "output_type": "execute_result"
    }
   ],
   "source": [
    "df = pd.read_csv('telco_churn.csv')\n",
    "df.sample(5)"
   ]
  },
  {
   "cell_type": "markdown",
   "id": "d7533353",
   "metadata": {},
   "source": [
    "a. Does tenure correlate with monthly charges? "
   ]
  },
  {
   "cell_type": "code",
   "execution_count": 36,
   "id": "afcf8e59",
   "metadata": {},
   "outputs": [],
   "source": [
    "# Null Hypothesis: There is no linear correlation between tenure and monthly charges\n",
    "# Null Hypothesis: There is a linear correlation between tenure and monthly charges"
   ]
  },
  {
   "cell_type": "code",
   "execution_count": 37,
   "id": "142335c7",
   "metadata": {},
   "outputs": [],
   "source": [
    "tenure = df.tenure\n",
    "monthly_charges = df.MonthlyCharges"
   ]
  },
  {
   "cell_type": "code",
   "execution_count": 38,
   "id": "eeed00d5",
   "metadata": {},
   "outputs": [
    {
     "data": {
      "text/plain": [
       "(0.2478998562861525, 4.094044991483017e-99)"
      ]
     },
     "execution_count": 38,
     "metadata": {},
     "output_type": "execute_result"
    }
   ],
   "source": [
    "corr, p = stats.pearsonr(tenure, monthly_charges)\n",
    "corr, p"
   ]
  },
  {
   "cell_type": "markdown",
   "id": "238ae85a",
   "metadata": {},
   "source": [
    "b. Total charges?"
   ]
  },
  {
   "cell_type": "code",
   "execution_count": 39,
   "id": "fa2a0095",
   "metadata": {},
   "outputs": [],
   "source": [
    "# Null Hypothesis: There is no linear correlation between tenure and total charges\n",
    "# Null Hypothesis: There is a linear correlation between tenure and total charges"
   ]
  },
  {
   "cell_type": "code",
   "execution_count": 40,
   "id": "b45c4912",
   "metadata": {},
   "outputs": [
    {
     "data": {
      "text/plain": [
       "0      29.85\n",
       "1    1889.50\n",
       "2     108.15\n",
       "3    1840.75\n",
       "4     151.65\n",
       "Name: TotalCharges, dtype: float64"
      ]
     },
     "execution_count": 40,
     "metadata": {},
     "output_type": "execute_result"
    }
   ],
   "source": [
    "total_charges = df.TotalCharges.fillna(0)\n",
    "total_charges.head()"
   ]
  },
  {
   "cell_type": "code",
   "execution_count": 41,
   "id": "6fa6139a",
   "metadata": {},
   "outputs": [
    {
     "data": {
      "text/plain": [
       "(0.8261783979502477, 0.0)"
      ]
     },
     "execution_count": 41,
     "metadata": {},
     "output_type": "execute_result"
    }
   ],
   "source": [
    "corr, p = stats.pearsonr(tenure, total_charges)\n",
    "corr, p"
   ]
  },
  {
   "cell_type": "code",
   "execution_count": 42,
   "id": "454c4998",
   "metadata": {},
   "outputs": [],
   "source": [
    "# We reject the null hypothesis"
   ]
  },
  {
   "cell_type": "markdown",
   "id": "cafbe5be",
   "metadata": {},
   "source": [
    "c. What happens if you control for phone and internet service?"
   ]
  },
  {
   "cell_type": "code",
   "execution_count": null,
   "id": "90d6cee5",
   "metadata": {},
   "outputs": [],
   "source": []
  },
  {
   "cell_type": "markdown",
   "id": "10f7dc8d",
   "metadata": {},
   "source": [
    "2. Use the employees database."
   ]
  },
  {
   "cell_type": "code",
   "execution_count": 48,
   "id": "7f57e94e",
   "metadata": {},
   "outputs": [
    {
     "data": {
      "text/html": [
       "<div>\n",
       "<style scoped>\n",
       "    .dataframe tbody tr th:only-of-type {\n",
       "        vertical-align: middle;\n",
       "    }\n",
       "\n",
       "    .dataframe tbody tr th {\n",
       "        vertical-align: top;\n",
       "    }\n",
       "\n",
       "    .dataframe thead th {\n",
       "        text-align: right;\n",
       "    }\n",
       "</style>\n",
       "<table border=\"1\" class=\"dataframe\">\n",
       "  <thead>\n",
       "    <tr style=\"text-align: right;\">\n",
       "      <th></th>\n",
       "      <th>emp_no</th>\n",
       "      <th>hire_date</th>\n",
       "      <th>salary</th>\n",
       "      <th>title</th>\n",
       "    </tr>\n",
       "  </thead>\n",
       "  <tbody>\n",
       "    <tr>\n",
       "      <th>0</th>\n",
       "      <td>10001</td>\n",
       "      <td>1986-06-26</td>\n",
       "      <td>60117</td>\n",
       "      <td>Senior Engineer</td>\n",
       "    </tr>\n",
       "    <tr>\n",
       "      <th>1</th>\n",
       "      <td>10001</td>\n",
       "      <td>1986-06-26</td>\n",
       "      <td>62102</td>\n",
       "      <td>Senior Engineer</td>\n",
       "    </tr>\n",
       "    <tr>\n",
       "      <th>2</th>\n",
       "      <td>10001</td>\n",
       "      <td>1986-06-26</td>\n",
       "      <td>66074</td>\n",
       "      <td>Senior Engineer</td>\n",
       "    </tr>\n",
       "    <tr>\n",
       "      <th>3</th>\n",
       "      <td>10001</td>\n",
       "      <td>1986-06-26</td>\n",
       "      <td>66596</td>\n",
       "      <td>Senior Engineer</td>\n",
       "    </tr>\n",
       "    <tr>\n",
       "      <th>4</th>\n",
       "      <td>10001</td>\n",
       "      <td>1986-06-26</td>\n",
       "      <td>66961</td>\n",
       "      <td>Senior Engineer</td>\n",
       "    </tr>\n",
       "  </tbody>\n",
       "</table>\n",
       "</div>"
      ],
      "text/plain": [
       "   emp_no   hire_date  salary            title\n",
       "0   10001  1986-06-26   60117  Senior Engineer\n",
       "1   10001  1986-06-26   62102  Senior Engineer\n",
       "2   10001  1986-06-26   66074  Senior Engineer\n",
       "3   10001  1986-06-26   66596  Senior Engineer\n",
       "4   10001  1986-06-26   66961  Senior Engineer"
      ]
     },
     "execution_count": 48,
     "metadata": {},
     "output_type": "execute_result"
    }
   ],
   "source": [
    "def get_db_url(db_name):\n",
    "    from env import user, host, password\n",
    "    return f'mysql+pymysql://{user}:{password}@{host}/{db_name}'\n",
    "    \n",
    "sql = \"\"\"\n",
    "    SELECT emp_no, hire_date, salary, title\n",
    "    from employees\n",
    "    join salaries using(emp_no)\n",
    "    join titles using(emp_no);\n",
    "\"\"\"\n",
    "\n",
    "url = get_db_url(\"employees\")\n",
    "\n",
    "employees = pd.read_sql(sql, url)\n",
    "employees.head()"
   ]
  },
  {
   "cell_type": "code",
   "execution_count": 49,
   "id": "a864bae6",
   "metadata": {},
   "outputs": [],
   "source": [
    "from datetime import date"
   ]
  },
  {
   "cell_type": "code",
   "execution_count": 56,
   "id": "c31acf99",
   "metadata": {},
   "outputs": [],
   "source": [
    "employees['tenure'] = round((date.today() - employees.hire_date) / np.timedelta64(1, 'M')).astype(int)"
   ]
  },
  {
   "cell_type": "code",
   "execution_count": 57,
   "id": "4220c6e2",
   "metadata": {},
   "outputs": [
    {
     "data": {
      "text/html": [
       "<div>\n",
       "<style scoped>\n",
       "    .dataframe tbody tr th:only-of-type {\n",
       "        vertical-align: middle;\n",
       "    }\n",
       "\n",
       "    .dataframe tbody tr th {\n",
       "        vertical-align: top;\n",
       "    }\n",
       "\n",
       "    .dataframe thead th {\n",
       "        text-align: right;\n",
       "    }\n",
       "</style>\n",
       "<table border=\"1\" class=\"dataframe\">\n",
       "  <thead>\n",
       "    <tr style=\"text-align: right;\">\n",
       "      <th></th>\n",
       "      <th>emp_no</th>\n",
       "      <th>hire_date</th>\n",
       "      <th>salary</th>\n",
       "      <th>title</th>\n",
       "      <th>tenure</th>\n",
       "    </tr>\n",
       "  </thead>\n",
       "  <tbody>\n",
       "    <tr>\n",
       "      <th>2143649</th>\n",
       "      <td>238300</td>\n",
       "      <td>1993-09-30</td>\n",
       "      <td>77730</td>\n",
       "      <td>Staff</td>\n",
       "      <td>337</td>\n",
       "    </tr>\n",
       "    <tr>\n",
       "      <th>2865294</th>\n",
       "      <td>285044</td>\n",
       "      <td>1992-04-14</td>\n",
       "      <td>50266</td>\n",
       "      <td>Engineer</td>\n",
       "      <td>355</td>\n",
       "    </tr>\n",
       "    <tr>\n",
       "      <th>1563422</th>\n",
       "      <td>200651</td>\n",
       "      <td>1992-07-29</td>\n",
       "      <td>66489</td>\n",
       "      <td>Engineer</td>\n",
       "      <td>351</td>\n",
       "    </tr>\n",
       "    <tr>\n",
       "      <th>4125458</th>\n",
       "      <td>466573</td>\n",
       "      <td>1994-05-17</td>\n",
       "      <td>84867</td>\n",
       "      <td>Staff</td>\n",
       "      <td>330</td>\n",
       "    </tr>\n",
       "    <tr>\n",
       "      <th>4316267</th>\n",
       "      <td>479022</td>\n",
       "      <td>1988-03-14</td>\n",
       "      <td>60232</td>\n",
       "      <td>Engineer</td>\n",
       "      <td>404</td>\n",
       "    </tr>\n",
       "    <tr>\n",
       "      <th>4323744</th>\n",
       "      <td>479504</td>\n",
       "      <td>1986-10-12</td>\n",
       "      <td>50680</td>\n",
       "      <td>Senior Engineer</td>\n",
       "      <td>421</td>\n",
       "    </tr>\n",
       "    <tr>\n",
       "      <th>2457488</th>\n",
       "      <td>258669</td>\n",
       "      <td>1985-10-02</td>\n",
       "      <td>95994</td>\n",
       "      <td>Assistant Engineer</td>\n",
       "      <td>433</td>\n",
       "    </tr>\n",
       "    <tr>\n",
       "      <th>3067529</th>\n",
       "      <td>298120</td>\n",
       "      <td>1987-03-03</td>\n",
       "      <td>65684</td>\n",
       "      <td>Senior Staff</td>\n",
       "      <td>416</td>\n",
       "    </tr>\n",
       "    <tr>\n",
       "      <th>3179128</th>\n",
       "      <td>405453</td>\n",
       "      <td>1988-07-13</td>\n",
       "      <td>81163</td>\n",
       "      <td>Staff</td>\n",
       "      <td>400</td>\n",
       "    </tr>\n",
       "    <tr>\n",
       "      <th>1991597</th>\n",
       "      <td>228384</td>\n",
       "      <td>1993-12-17</td>\n",
       "      <td>40875</td>\n",
       "      <td>Staff</td>\n",
       "      <td>335</td>\n",
       "    </tr>\n",
       "    <tr>\n",
       "      <th>4384594</th>\n",
       "      <td>483461</td>\n",
       "      <td>1989-01-24</td>\n",
       "      <td>85123</td>\n",
       "      <td>Engineer</td>\n",
       "      <td>393</td>\n",
       "    </tr>\n",
       "    <tr>\n",
       "      <th>743415</th>\n",
       "      <td>57992</td>\n",
       "      <td>1992-06-04</td>\n",
       "      <td>48868</td>\n",
       "      <td>Senior Engineer</td>\n",
       "      <td>353</td>\n",
       "    </tr>\n",
       "    <tr>\n",
       "      <th>4479507</th>\n",
       "      <td>489573</td>\n",
       "      <td>1996-08-01</td>\n",
       "      <td>55537</td>\n",
       "      <td>Engineer</td>\n",
       "      <td>303</td>\n",
       "    </tr>\n",
       "    <tr>\n",
       "      <th>3895752</th>\n",
       "      <td>451791</td>\n",
       "      <td>1990-08-22</td>\n",
       "      <td>49384</td>\n",
       "      <td>Staff</td>\n",
       "      <td>374</td>\n",
       "    </tr>\n",
       "    <tr>\n",
       "      <th>933448</th>\n",
       "      <td>70162</td>\n",
       "      <td>1987-09-30</td>\n",
       "      <td>75017</td>\n",
       "      <td>Engineer</td>\n",
       "      <td>409</td>\n",
       "    </tr>\n",
       "    <tr>\n",
       "      <th>4132486</th>\n",
       "      <td>467011</td>\n",
       "      <td>1987-01-22</td>\n",
       "      <td>89075</td>\n",
       "      <td>Senior Staff</td>\n",
       "      <td>417</td>\n",
       "    </tr>\n",
       "    <tr>\n",
       "      <th>164394</th>\n",
       "      <td>20626</td>\n",
       "      <td>1985-09-22</td>\n",
       "      <td>61246</td>\n",
       "      <td>Senior Engineer</td>\n",
       "      <td>433</td>\n",
       "    </tr>\n",
       "    <tr>\n",
       "      <th>4510258</th>\n",
       "      <td>491572</td>\n",
       "      <td>1990-12-04</td>\n",
       "      <td>88068</td>\n",
       "      <td>Senior Staff</td>\n",
       "      <td>371</td>\n",
       "    </tr>\n",
       "    <tr>\n",
       "      <th>4227040</th>\n",
       "      <td>473244</td>\n",
       "      <td>1991-02-21</td>\n",
       "      <td>60308</td>\n",
       "      <td>Staff</td>\n",
       "      <td>368</td>\n",
       "    </tr>\n",
       "    <tr>\n",
       "      <th>3268080</th>\n",
       "      <td>411243</td>\n",
       "      <td>1989-05-03</td>\n",
       "      <td>60815</td>\n",
       "      <td>Senior Engineer</td>\n",
       "      <td>390</td>\n",
       "    </tr>\n",
       "  </tbody>\n",
       "</table>\n",
       "</div>"
      ],
      "text/plain": [
       "         emp_no   hire_date  salary               title  tenure\n",
       "2143649  238300  1993-09-30   77730               Staff     337\n",
       "2865294  285044  1992-04-14   50266            Engineer     355\n",
       "1563422  200651  1992-07-29   66489            Engineer     351\n",
       "4125458  466573  1994-05-17   84867               Staff     330\n",
       "4316267  479022  1988-03-14   60232            Engineer     404\n",
       "4323744  479504  1986-10-12   50680     Senior Engineer     421\n",
       "2457488  258669  1985-10-02   95994  Assistant Engineer     433\n",
       "3067529  298120  1987-03-03   65684        Senior Staff     416\n",
       "3179128  405453  1988-07-13   81163               Staff     400\n",
       "1991597  228384  1993-12-17   40875               Staff     335\n",
       "4384594  483461  1989-01-24   85123            Engineer     393\n",
       "743415    57992  1992-06-04   48868     Senior Engineer     353\n",
       "4479507  489573  1996-08-01   55537            Engineer     303\n",
       "3895752  451791  1990-08-22   49384               Staff     374\n",
       "933448    70162  1987-09-30   75017            Engineer     409\n",
       "4132486  467011  1987-01-22   89075        Senior Staff     417\n",
       "164394    20626  1985-09-22   61246     Senior Engineer     433\n",
       "4510258  491572  1990-12-04   88068        Senior Staff     371\n",
       "4227040  473244  1991-02-21   60308               Staff     368\n",
       "3268080  411243  1989-05-03   60815     Senior Engineer     390"
      ]
     },
     "execution_count": 57,
     "metadata": {},
     "output_type": "execute_result"
    }
   ],
   "source": [
    "employees.sample(20)"
   ]
  },
  {
   "cell_type": "markdown",
   "id": "74378065",
   "metadata": {},
   "source": [
    "a. Is there a relationship between how long an employee has been with the company and their salary?"
   ]
  },
  {
   "cell_type": "code",
   "execution_count": null,
   "id": "86cbd90b",
   "metadata": {},
   "outputs": [],
   "source": []
  },
  {
   "cell_type": "markdown",
   "id": "16ad7793",
   "metadata": {},
   "source": [
    "b. Is there a relationship between how long an employee has been with the company and the number of titles they have had?"
   ]
  },
  {
   "cell_type": "code",
   "execution_count": null,
   "id": "98a2caa7",
   "metadata": {},
   "outputs": [],
   "source": []
  },
  {
   "cell_type": "markdown",
   "id": "6d426f7c",
   "metadata": {},
   "source": [
    "3. Use the sleepstudy data. Is there a relationship between days and reaction time?"
   ]
  },
  {
   "cell_type": "code",
   "execution_count": null,
   "id": "33bc696f",
   "metadata": {},
   "outputs": [],
   "source": []
  }
 ],
 "metadata": {
  "kernelspec": {
   "display_name": "Python 3",
   "language": "python",
   "name": "python3"
  },
  "language_info": {
   "codemirror_mode": {
    "name": "ipython",
    "version": 3
   },
   "file_extension": ".py",
   "mimetype": "text/x-python",
   "name": "python",
   "nbconvert_exporter": "python",
   "pygments_lexer": "ipython3",
   "version": "3.8.8"
  }
 },
 "nbformat": 4,
 "nbformat_minor": 5
}
